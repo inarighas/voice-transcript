{
 "cells": [
  {
   "cell_type": "code",
   "execution_count": 1,
   "metadata": {},
   "outputs": [
    {
     "name": "stderr",
     "output_type": "stream",
     "text": [
      "/home/inarighas/Projects/voice-transcript/.venv/lib64/python3.10/site-packages/tqdm/auto.py:22: TqdmWarning: IProgress not found. Please update jupyter and ipywidgets. See https://ipywidgets.readthedocs.io/en/stable/user_install.html\n",
      "  from .autonotebook import tqdm as notebook_tqdm\n",
      "torchvision is not available - cannot save figures\n",
      "speechbrain.lobes.models.huggingface_wav2vec - wav2vec 2.0 is frozen.\n"
     ]
    }
   ],
   "source": [
    "import os, sys\n",
    "os.chdir('/home/inarighas/Projects/voice-transcript')\n",
    "import pandas as pd\n",
    "import numpy as np\n",
    "import librosa\n",
    "from bs4 import BeautifulSoup\n",
    "from app.main import process_transcription\n",
    "\n",
    "import json\n",
    "import wave\n",
    "import contextlib\n",
    "import fastwer"
   ]
  },
  {
   "cell_type": "code",
   "execution_count": 2,
   "metadata": {},
   "outputs": [],
   "source": [
    "root_folder = '../voice-features/eval/data/ParoleParisContemporain/'\n",
    "folder = 'record-28'"
   ]
  },
  {
   "cell_type": "code",
   "execution_count": 3,
   "metadata": {},
   "outputs": [],
   "source": [
    "# res = []\n",
    "# for folder in os.listdir(root_folder)[:1]:\n",
    "#     if folder.startswith(\"record\"):\n",
    "#         print(folder)\n",
    "#         list_files = os.listdir(root_folder + folder)\n",
    "#         for f in list_files:\n",
    "#             if f.endswith('.trs'):\n",
    "#                 with open(os.path.join(root_folder, folder, f), 'tr') as tmp:\n",
    "#                     data = tmp.read()\n",
    "#                 bs_data = BeautifulSoup(data, 'xml')\n",
    "#                 speakers = bs_data.find(\"Speakers\")\n",
    "#                 list_speakers = [s.get('id') for s in speakers if len(s)==0]\n",
    "#                 timestamps = {s: [] for s in list_speakers}\n",
    "#                 for s in list_speakers:\n",
    "#                     for tag in bs_data.find_all('Turn', {'speaker':s}):\n",
    "#                         tmp = tag.attrs\n",
    "#                         tmp[\"text\"] = tag.text.replace(\"\\n\", \"\")\n",
    "#                         res.append(tmp)"
   ]
  },
  {
   "cell_type": "code",
   "execution_count": 4,
   "metadata": {},
   "outputs": [],
   "source": [
    "# with open(os.path.join(root_folder, folder, \"transcript.json\"), 'w', encoding='utf8') as f:\n",
    "#     json.dump(res, f, indent=2, ensure_ascii=False)"
   ]
  },
  {
   "cell_type": "code",
   "execution_count": 20,
   "metadata": {},
   "outputs": [],
   "source": [
    "with open(os.path.join(root_folder, folder, \"transcript.json\"), 'r') as f:\n",
    "    d = json.load(f)"
   ]
  },
  {
   "cell_type": "code",
   "execution_count": 21,
   "metadata": {},
   "outputs": [],
   "source": [
    "target_sr = 8000\n",
    "name = os.path.join(root_folder, folder, \"single_spk1.wav\")\n",
    "arr, sr =  librosa.load(name)\n",
    "    # get list of audio(31.2*sr)]\n",
    "    # list_audio = [np.array(audio[i:i + sr*60]) for i in range(0, audio.shape[0], sr*60)]\n",
    "    # for idx, audio in enumerate(list_audio):\n",
    "    # Run transcript for each audio subsample:\n",
    "    # save retext, dur = process_transcription(arr, sr)sults\n"
   ]
  },
  {
   "cell_type": "code",
   "execution_count": null,
   "metadata": {},
   "outputs": [],
   "source": [
    "offset = 0\n",
    "for item in d:\n",
    "    length = float(item['endTime']) - float(item['startTime'])\n",
    "    speech_array = librosa.resample(arr[offset: offset + int(length*sr)],\n",
    "                                    orig_sr=sr,\n",
    "                                    target_sr=target_sr,\n",
    "                                    res_type=\"kaiser_fast\"\n",
    "                                    )\n",
    "    text, dur = process_transcription(speech_array, target_sr)\n",
    "    item['model'] = text\n",
    "    # print(f\"Offset: {offset} ---- Length: {int(length*sr)}\")\n",
    "    offset = offset + int(length*sr)"
   ]
  },
  {
   "cell_type": "code",
   "execution_count": 24,
   "metadata": {},
   "outputs": [],
   "source": [
    "import json\n",
    "with open(os.path.join(root_folder, folder, \"res_transcript.json\"), 'w', encoding='utf8') as f:\n",
    "    json.dump(d, f, indent=2, ensure_ascii=False)"
   ]
  },
  {
   "cell_type": "code",
   "execution_count": 3,
   "metadata": {},
   "outputs": [],
   "source": [
    "with open(os.path.join(root_folder, folder, \"res_transcript.json\"), 'r') as f:\n",
    "    d = json.load(f)"
   ]
  },
  {
   "cell_type": "code",
   "execution_count": 6,
   "metadata": {},
   "outputs": [
    {
     "name": "stdout",
     "output_type": "stream",
     "text": [
      "Line 192: unfound transcript\n",
      "Line 193: unfound transcript\n",
      "Line 194: unfound transcript\n",
      "Line 195: unfound transcript\n",
      "Line 196: unfound transcript\n",
      "Line 197: unfound transcript\n",
      "Line 198: unfound transcript\n",
      "Line 199: unfound transcript\n",
      "Line 200: unfound transcript\n",
      "Line 201: unfound transcript\n",
      "Line 202: unfound transcript\n",
      "Line 203: unfound transcript\n",
      "Line 204: unfound transcript\n",
      "Line 205: unfound transcript\n",
      "Line 206: unfound transcript\n",
      "Line 207: unfound transcript\n",
      "Line 208: unfound transcript\n",
      "Line 209: unfound transcript\n",
      "Line 210: unfound transcript\n",
      "Line 211: unfound transcript\n",
      "Line 212: unfound transcript\n",
      "Line 213: unfound transcript\n",
      "Line 214: unfound transcript\n",
      "Line 215: unfound transcript\n",
      "Line 216: unfound transcript\n",
      "Line 217: unfound transcript\n",
      "Line 218: unfound transcript\n",
      "Line 219: unfound transcript\n",
      "Line 220: unfound transcript\n",
      "Line 221: unfound transcript\n",
      "Line 222: unfound transcript\n",
      "Line 223: unfound transcript\n",
      "Line 224: unfound transcript\n",
      "Line 225: unfound transcript\n",
      "Line 226: unfound transcript\n",
      "Line 227: unfound transcript\n",
      "Line 228: unfound transcript\n",
      "Line 229: unfound transcript\n",
      "Line 230: unfound transcript\n",
      "Line 231: unfound transcript\n",
      "Line 232: unfound transcript\n",
      "Line 233: unfound transcript\n",
      "Line 234: unfound transcript\n",
      "Line 235: unfound transcript\n",
      "Line 236: unfound transcript\n",
      "Line 237: unfound transcript\n",
      "Line 238: unfound transcript\n",
      "Line 239: unfound transcript\n",
      "Line 240: unfound transcript\n",
      "Line 241: unfound transcript\n",
      "Line 242: unfound transcript\n",
      "Line 243: unfound transcript\n",
      "Line 244: unfound transcript\n",
      "Line 245: unfound transcript\n",
      "Line 246: unfound transcript\n",
      "Line 247: unfound transcript\n",
      "Line 248: unfound transcript\n",
      "Line 249: unfound transcript\n",
      "Line 250: unfound transcript\n",
      "Line 251: unfound transcript\n",
      "Line 252: unfound transcript\n",
      "Line 253: unfound transcript\n",
      "Line 254: unfound transcript\n",
      "Line 255: unfound transcript\n",
      "Line 256: unfound transcript\n",
      "Line 257: unfound transcript\n",
      "Line 258: unfound transcript\n",
      "Line 259: unfound transcript\n",
      "Line 260: unfound transcript\n",
      "Line 261: unfound transcript\n",
      "Line 262: unfound transcript\n",
      "Line 263: unfound transcript\n",
      "Line 264: unfound transcript\n",
      "Line 265: unfound transcript\n",
      "Line 266: unfound transcript\n",
      "Line 267: unfound transcript\n",
      "Line 268: unfound transcript\n",
      "Line 269: unfound transcript\n",
      "Line 270: unfound transcript\n",
      "Line 271: unfound transcript\n",
      "Line 272: unfound transcript\n",
      "Line 273: unfound transcript\n",
      "Line 274: unfound transcript\n",
      "Line 275: unfound transcript\n",
      "Line 276: unfound transcript\n",
      "Line 277: unfound transcript\n",
      "Line 278: unfound transcript\n",
      "Line 279: unfound transcript\n",
      "Line 280: unfound transcript\n",
      "Line 281: unfound transcript\n",
      "Line 282: unfound transcript\n",
      "Line 283: unfound transcript\n",
      "Line 284: unfound transcript\n",
      "Line 285: unfound transcript\n",
      "Line 286: unfound transcript\n",
      "Line 287: unfound transcript\n",
      "Line 288: unfound transcript\n",
      "Line 289: unfound transcript\n",
      "Line 290: unfound transcript\n",
      "Line 291: unfound transcript\n",
      "Line 292: unfound transcript\n",
      "Line 293: unfound transcript\n",
      "Line 294: unfound transcript\n",
      "Line 295: unfound transcript\n",
      "Line 296: unfound transcript\n",
      "Line 297: unfound transcript\n",
      "Line 298: unfound transcript\n",
      "Line 299: unfound transcript\n",
      "Line 300: unfound transcript\n",
      "Line 301: unfound transcript\n",
      "Line 302: unfound transcript\n",
      "Line 303: unfound transcript\n",
      "Line 304: unfound transcript\n",
      "Line 305: unfound transcript\n",
      "Line 306: unfound transcript\n",
      "Line 307: unfound transcript\n",
      "Line 308: unfound transcript\n",
      "Line 309: unfound transcript\n",
      "Line 310: unfound transcript\n",
      "Line 311: unfound transcript\n",
      "Line 312: unfound transcript\n",
      "Line 313: unfound transcript\n",
      "Line 314: unfound transcript\n",
      "Line 315: unfound transcript\n",
      "Line 316: unfound transcript\n",
      "Line 317: unfound transcript\n",
      "Line 318: unfound transcript\n",
      "Line 319: unfound transcript\n",
      "Line 320: unfound transcript\n",
      "Line 321: unfound transcript\n",
      "Line 322: unfound transcript\n",
      "Line 323: unfound transcript\n",
      "Line 324: unfound transcript\n",
      "Line 325: unfound transcript\n",
      "Line 326: unfound transcript\n",
      "Line 327: unfound transcript\n",
      "Line 328: unfound transcript\n",
      "Line 329: unfound transcript\n",
      "Line 330: unfound transcript\n",
      "Line 331: unfound transcript\n",
      "Line 332: unfound transcript\n",
      "Line 333: unfound transcript\n",
      "Line 334: unfound transcript\n",
      "Line 335: unfound transcript\n",
      "Line 336: unfound transcript\n",
      "Line 337: unfound transcript\n",
      "Line 338: unfound transcript\n",
      "Line 339: unfound transcript\n",
      "Line 340: unfound transcript\n",
      "Line 341: unfound transcript\n",
      "Line 342: unfound transcript\n",
      "Line 343: unfound transcript\n",
      "Line 344: unfound transcript\n",
      "Line 345: unfound transcript\n",
      "Line 346: unfound transcript\n",
      "Line 347: unfound transcript\n",
      "Line 348: unfound transcript\n",
      "Line 349: unfound transcript\n",
      "Line 350: unfound transcript\n",
      "Line 351: unfound transcript\n",
      "Line 352: unfound transcript\n",
      "Line 353: unfound transcript\n",
      "Line 354: unfound transcript\n",
      "Line 355: unfound transcript\n",
      "Line 356: unfound transcript\n",
      "Line 357: unfound transcript\n",
      "Line 358: unfound transcript\n",
      "Line 359: unfound transcript\n",
      "Line 360: unfound transcript\n",
      "Line 361: unfound transcript\n",
      "Line 362: unfound transcript\n",
      "Line 363: unfound transcript\n",
      "Line 364: unfound transcript\n",
      "Line 365: unfound transcript\n",
      "Line 366: unfound transcript\n",
      "Line 367: unfound transcript\n",
      "Line 368: unfound transcript\n",
      "Line 369: unfound transcript\n",
      "Line 370: unfound transcript\n",
      "Line 371: unfound transcript\n",
      "Line 372: unfound transcript\n",
      "Line 373: unfound transcript\n",
      "Line 374: unfound transcript\n",
      "Line 375: unfound transcript\n",
      "Line 376: unfound transcript\n",
      "Line 377: unfound transcript\n",
      "Line 378: unfound transcript\n"
     ]
    }
   ],
   "source": [
    "ref_list = []\n",
    "mod_list = []\n",
    "for idx, i in enumerate(d):\n",
    "    try:\n",
    "        mod_list.append(i['model'])\n",
    "        ref_list.append(i['text'])\n",
    "    except KeyError:\n",
    "        print(f\"Line {idx}: unfound transcript\")\n",
    "    "
   ]
  },
  {
   "cell_type": "code",
   "execution_count": 8,
   "metadata": {},
   "outputs": [
    {
     "data": {
      "text/plain": [
       "192"
      ]
     },
     "execution_count": 8,
     "metadata": {},
     "output_type": "execute_result"
    }
   ],
   "source": [
    "len(mod_list)"
   ]
  },
  {
   "cell_type": "code",
   "execution_count": 33,
   "metadata": {},
   "outputs": [
    {
     "name": "stdout",
     "output_type": "stream",
     "text": [
      "\n",
      "---------------------------------------------------\n",
      "Sentence level WER: \t avg 45.86 (std 32.95)\n",
      "Corpus level WER: \t 43.47\n",
      "---------------------------------------------------\n",
      "Sentence level CER: \t avg 29.78 (std 30.69)\n",
      "Corpus level CER: \t 19.35\n"
     ]
    }
   ],
   "source": [
    "wer_lst = [fastwer.score_sent(m, r) for m, r in zip(mod_list, ref_list)]\n",
    "cer_lst = [fastwer.score_sent(m, r, char_level=True) for m, r in zip(mod_list, ref_list)]\n",
    "\n",
    "print('\\n---------------------------------------------------')\n",
    "print(f\"Sentence level WER: \\t avg {np.array(wer_lst).mean():.2f} (std {np.array(wer_lst).std():.2f})\")\n",
    "print(f\"Corpus level WER: \\t {fastwer.score(mod_list, ref_list, char_level=False):.2f}\")\n",
    "print('---------------------------------------------------')\n",
    "print(f\"Sentence level CER: \\t avg {np.array(cer_lst).mean():.2f} (std {np.array(cer_lst).std():.2f})\")\n",
    "print(f\"Corpus level CER: \\t {fastwer.score(mod_list, ref_list, char_level=True):.2f}\")"
   ]
  },
  {
   "cell_type": "code",
   "execution_count": 46,
   "metadata": {},
   "outputs": [
    {
     "data": {
      "text/plain": [
       "<AxesSubplot:ylabel='Count'>"
      ]
     },
     "execution_count": 46,
     "metadata": {},
     "output_type": "execute_result"
    },
    {
     "data": {
      "image/png": "[encoded data removed]",
      "text/plain": [
       "<Figure size 432x288 with 1 Axes>"
      ]
     },
     "metadata": {
      "needs_background": "light"
     },
     "output_type": "display_data"
    }
   ],
   "source": [
    "import seaborn as sns\n",
    "sns.histplot(wer_lst, color='k', alpha=.5)\n",
    "sns.histplot(cer_lst, color='red', alpha=.5)"
   ]
  }
 ],
 "metadata": {
  "kernelspec": {
   "display_name": "Python 3.10.5 ('.venv': venv)",
   "language": "python",
   "name": "python3"
  },
  "language_info": {
   "codemirror_mode": {
    "name": "ipython",
    "version": 3
   },
   "file_extension": ".py",
   "mimetype": "text/x-python",
   "name": "python",
   "nbconvert_exporter": "python",
   "pygments_lexer": "ipython3",
   "version": "3.10.6"
  },
  "orig_nbformat": 4,
  "vscode": {
   "interpreter": {
    "hash": "cf6a8efe9bc606fdc6eeef4076d637012a63b727005aa13d1f1bf9dac480bed4"
   }
  }
 },
 "nbformat": 4,
 "nbformat_minor": 2
}
