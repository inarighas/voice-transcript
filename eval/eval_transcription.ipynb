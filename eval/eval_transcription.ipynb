{
 "cells": [
  {
   "cell_type": "code",
   "execution_count": null,
   "metadata": {},
   "outputs": [],
   "source": [
    "import os, sys\n",
    "os.chdir('/home/inarighas/Projects/voice-transcript')\n",
    "import pandas as pd\n",
    "import numpy as np\n",
    "import librosa\n",
    "from bs4 import BeautifulSoup\n",
    "from app.main import process_transcription\n",
    "\n",
    "import json\n",
    "import wave\n",
    "import contextlib\n",
    "import fastwer"
   ]
  },
  {
   "cell_type": "code",
   "execution_count": null,
   "metadata": {},
   "outputs": [],
   "source": [
    "root_folder = '../voice-features/eval/data/ParoleParisContemporain/'\n",
    "folder = 'record-28'"
   ]
  },
  {
   "cell_type": "code",
   "execution_count": null,
   "metadata": {},
   "outputs": [],
   "source": [
    "# res = []\n",
    "# for folder in os.listdir(root_folder)[:1]:\n",
    "#     if folder.startswith(\"record\"):\n",
    "#         print(folder)\n",
    "#         list_files = os.listdir(root_folder + folder)\n",
    "#         for f in list_files:\n",
    "#             if f.endswith('.trs'):\n",
    "#                 with open(os.path.join(root_folder, folder, f), 'tr') as tmp:\n",
    "#                     data = tmp.read()\n",
    "#                 bs_data = BeautifulSoup(data, 'xml')\n",
    "#                 speakers = bs_data.find(\"Speakers\")\n",
    "#                 list_speakers = [s.get('id') for s in speakers if len(s)==0]\n",
    "#                 timestamps = {s: [] for s in list_speakers}\n",
    "#                 for s in list_speakers:\n",
    "#                     for tag in bs_data.find_all('Turn', {'speaker':s}):\n",
    "#                         tmp = tag.attrs\n",
    "#                         tmp[\"text\"] = tag.text.replace(\"\\n\", \"\")\n",
    "#                         res.append(tmp)"
   ]
  },
  {
   "cell_type": "code",
   "execution_count": null,
   "metadata": {},
   "outputs": [],
   "source": [
    "# with open(os.path.join(root_folder, folder, \"transcript.json\"), 'w', encoding='utf8') as f:\n",
    "#     json.dump(res, f, indent=2, ensure_ascii=False)"
   ]
  },
  {
   "cell_type": "code",
   "execution_count": null,
   "metadata": {},
   "outputs": [],
   "source": [
    "with open(os.path.join(root_folder, folder, \"transcript.json\"), 'r') as f:\n",
    "    d = json.load(f)"
   ]
  },
  {
   "cell_type": "code",
   "execution_count": null,
   "metadata": {},
   "outputs": [],
   "source": [
    "target_sr = 8000\n",
    "name = os.path.join(root_folder, folder, \"single_spk1.wav\")\n",
    "arr, sr =  librosa.load(name)\n",
    "    # get list of audio(31.2*sr)]\n",
    "    # list_audio = [np.array(audio[i:i + sr*60]) for i in range(0, audio.shape[0], sr*60)]\n",
    "    # for idx, audio in enumerate(list_audio):\n",
    "    # Run transcript for each audio subsample:\n",
    "    # save retext, dur = process_transcription(arr, sr)sults\n"
   ]
  },
  {
   "cell_type": "code",
   "execution_count": null,
   "metadata": {},
   "outputs": [],
   "source": [
    "offset = 0\n",
    "for item in d:\n",
    "    length = float(item['endTime']) - float(item['startTime'])\n",
    "    speech_array = librosa.resample(arr[offset: offset + int(length*sr)],\n",
    "                                    orig_sr=sr,\n",
    "                                    target_sr=target_sr,\n",
    "                                    res_type=\"kaiser_fast\"\n",
    "                                    )\n",
    "    text, dur = process_transcription(speech_array, target_sr)\n",
    "    item['model'] = text\n",
    "    # print(f\"Offset: {offset} ---- Length: {int(length*sr)}\")\n",
    "    offset = offset + int(length*sr)"
   ]
  },
  {
   "cell_type": "code",
   "execution_count": null,
   "metadata": {},
   "outputs": [],
   "source": [
    "import json\n",
    "with open(os.path.join(root_folder, folder, \"res_transcript.json\"), 'w', encoding='utf8') as f:\n",
    "    json.dump(d, f, indent=2, ensure_ascii=False)"
   ]
  },
  {
   "cell_type": "code",
   "execution_count": null,
   "metadata": {},
   "outputs": [],
   "source": [
    "with open(os.path.join(root_folder, folder, \"res_transcript.json\"), 'r') as f:\n",
    "    d = json.load(f)"
   ]
  },
  {
   "cell_type": "code",
   "execution_count": null,
   "metadata": {},
   "outputs": [],
   "source": [
    "ref_list = []\n",
    "mod_list = []\n",
    "for idx, i in enumerate(d):\n",
    "    try:\n",
    "        mod_list.append(i['model'])\n",
    "        ref_list.append(i['text'])\n",
    "    except KeyError:\n",
    "        print(f\"Line {idx}: unfound transcript\")\n",
    "    "
   ]
  },
  {
   "cell_type": "code",
   "execution_count": null,
   "metadata": {},
   "outputs": [],
   "source": [
    "len(mod_list)"
   ]
  },
  {
   "cell_type": "code",
   "execution_count": null,
   "metadata": {},
   "outputs": [],
   "source": [
    "wer_lst = [fastwer.score_sent(m, r) for m, r in zip(mod_list, ref_list)]\n",
    "cer_lst = [fastwer.score_sent(m, r, char_level=True) for m, r in zip(mod_list, ref_list)]\n",
    "\n",
    "print('\\n---------------------------------------------------')\n",
    "print(f\"Sentence level WER: \\t avg {np.array(wer_lst).mean():.2f} (std {np.array(wer_lst).std():.2f})\")\n",
    "print(f\"Corpus level WER: \\t {fastwer.score(mod_list, ref_list, char_level=False):.2f}\")\n",
    "print('---------------------------------------------------')\n",
    "print(f\"Sentence level CER: \\t avg {np.array(cer_lst).mean():.2f} (std {np.array(cer_lst).std():.2f})\")\n",
    "print(f\"Corpus level CER: \\t {fastwer.score(mod_list, ref_list, char_level=True):.2f}\")"
   ]
  },
  {
   "cell_type": "code",
   "execution_count": null,
   "metadata": {},
   "outputs": [],
   "source": [
    "import seaborn as sns\n",
    "sns.histplot(wer_lst, color='k', alpha=.5)\n",
    "sns.histplot(cer_lst, color='red', alpha=.5)"
   ]
  }
 ],
 "metadata": {
  "kernelspec": {
   "display_name": "Python 3.10.5 ('.venv': venv)",
   "language": "python",
   "name": "python3"
  },
  "language_info": {
   "codemirror_mode": {
    "name": "ipython",
    "version": 3
   },
   "file_extension": ".py",
   "mimetype": "text/x-python",
   "name": "python",
   "nbconvert_exporter": "python",
   "pygments_lexer": "ipython3",
   "version": "3.10.7"
  },
  "vscode": {
   "interpreter": {
    "hash": "cf6a8efe9bc606fdc6eeef4076d637012a63b727005aa13d1f1bf9dac480bed4"
   }
  }
 },
 "nbformat": 4,
 "nbformat_minor": 2
}
