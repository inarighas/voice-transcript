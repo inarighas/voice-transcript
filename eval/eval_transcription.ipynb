{
 "cells": [
  {
   "cell_type": "code",
   "execution_count": 1,
   "metadata": {},
   "outputs": [
    {
     "name": "stderr",
     "output_type": "stream",
     "text": [
      "/home/inarighas/Projects/voice-transcript/.venv/lib64/python3.10/site-packages/tqdm/auto.py:22: TqdmWarning: IProgress not found. Please update jupyter and ipywidgets. See https://ipywidgets.readthedocs.io/en/stable/user_install.html\n",
      "  from .autonotebook import tqdm as notebook_tqdm\n",
      "torchvision is not available - cannot save figures\n",
      "speechbrain.lobes.models.huggingface_wav2vec - wav2vec 2.0 is frozen.\n"
     ]
    }
   ],
   "source": [
    "import os, sys\n",
    "os.chdir('/home/inarighas/Projects/voice-transcript')\n",
    "import pandas as pd\n",
    "import numpy as np\n",
    "import librosa\n",
    "from bs4 import BeautifulSoup\n",
    "from app.main import process_transcription"
   ]
  },
  {
   "cell_type": "code",
   "execution_count": 2,
   "metadata": {},
   "outputs": [],
   "source": [
    "root_folder = '../voice-features/eval/data/ParoleParisContemporain/'"
   ]
  },
  {
   "cell_type": "code",
   "execution_count": 3,
   "metadata": {},
   "outputs": [
    {
     "name": "stdout",
     "output_type": "stream",
     "text": [
      "record-28\n"
     ]
    }
   ],
   "source": [
    "import wave\n",
    "import contextlib\n",
    "\n",
    "res = []\n",
    "for folder in os.listdir(root_folder)[:1]:\n",
    "    if folder.startswith(\"record\"):\n",
    "        print(folder)\n",
    "        list_files = os.listdir(root_folder + folder)\n",
    "        for f in list_files:\n",
    "            if f.endswith('.trs'):\n",
    "                with open(os.path.join(root_folder, folder, f), 'tr') as tmp:\n",
    "                    data = tmp.read()\n",
    "                bs_data = BeautifulSoup(data, 'xml')\n",
    "                speakers = bs_data.find(\"Speakers\")\n",
    "                list_speakers = [s.get('id') for s in speakers if len(s)==0]\n",
    "                timestamps = {s: [] for s in list_speakers}\n",
    "                for s in list_speakers:\n",
    "                    for tag in bs_data.find_all('Turn', {'speaker':s}):\n",
    "                        tmp = tag.attrs\n",
    "                        tmp[\"text\"] = tag.text.replace(\"\\n\", \"\")\n",
    "                        res.append(tmp)"
   ]
  },
  {
   "cell_type": "code",
   "execution_count": 4,
   "metadata": {},
   "outputs": [],
   "source": [
    "\n",
    "# import json\n",
    "# with open(os.path.join(root_folder, folder, \"transcript.json\"), 'w', encoding='utf8') as f:\n",
    "#     json.dump(res, f, indent=2, ensure_ascii=False)"
   ]
  },
  {
   "cell_type": "code",
   "execution_count": 6,
   "metadata": {},
   "outputs": [],
   "source": [
    "import json\n",
    "with open(os.path.join(root_folder, folder, \"transcript.json\"), 'r') as f:\n",
    "    d = json.load(f)"
   ]
  },
  {
   "cell_type": "code",
   "execution_count": 8,
   "metadata": {},
   "outputs": [
    {
     "data": {
      "text/plain": [
       "{'startTime': '0',\n",
       " 'endTime': '31.210',\n",
       " 'speaker': 'spk1',\n",
       " 'text': \"bon je reviens sur cette euh ce problème qui est un problème euh voilà de d'être chez moi combien de fois ça m'est arrivé bon ben là tu vas boulevard Voltaire c'est pas loin euh tu tu j'y vais à pieds je suis chez moi je me conditionne dans mon appartement en me disant j'y vais à pieds moi ma voiture elle est garée dans la rue j'ai un stationnement résident je passe devant je ne peux pas m'empêcher d'ouvrir euh la porte de monter dedans et et d'aller euh à euh voilà cinq minutes en voiture ce qui me mettrait peut-être euh un petit quart d'heure à pieds donc au dernier moment je prends ma voiture \"}"
      ]
     },
     "execution_count": 8,
     "metadata": {},
     "output_type": "execute_result"
    }
   ],
   "source": [
    "d[0]"
   ]
  },
  {
   "cell_type": "code",
   "execution_count": 10,
   "metadata": {},
   "outputs": [],
   "source": [
    "# for i in np.arange(1,19):\n",
    "#     name = f\"PTSD_{i}\"\n",
    "name = os.path.join(root_folder, folder, \"single_spk1.wav\")\n",
    "arr, sr =  librosa.load(name)\n",
    "    # get list of audio(31.2*sr)]\n",
    "    # list_audio = [np.array(audio[i:i + sr*60]) for i in range(0, audio.shape[0], sr*60)]\n",
    "    # for idx, audio in enumerate(list_audio):\n",
    "    # Run transcript for each audio subsample:\n",
    "    # save retext, dur = process_transcription(arr, sr)sults\n"
   ]
  },
  {
   "cell_type": "code",
   "execution_count": 16,
   "metadata": {},
   "outputs": [],
   "source": [
    "target_sr = 8000\n",
    "speech_array = librosa.resample(arr[:int(31.2*sr)],\n",
    "                                orig_sr=sr,\n",
    "                                target_sr=target_sr,\n",
    "                                res_type=\"kaiser_fast\"\n",
    "                                )"
   ]
  },
  {
   "cell_type": "code",
   "execution_count": 17,
   "metadata": {},
   "outputs": [
    {
     "name": "stderr",
     "output_type": "stream",
     "text": [
      "DEBUG:    |>>> Rel_length: tensor([1.])\n",
      "DEBUG:    |>>> Signal: tensor([[ 1.1269e-08, -1.5749e-08, -2.0364e-08,  ...,  1.4285e-02,\n",
      "          1.3639e-02,  6.9621e-03]])\n",
      "DEBUG:    |>>> Predicted words: ['MAIS JE REVIENS SUR CE PROBLÈME QUI A UN PROBLÈME VOILÀ DETTRE CHEZ MOI COMBIEN DE FOIS ÇA MAI ARRIVÉE BON BAI LÀ TU VAS BOULEVARD DELTERRE C EST PAS LOIN J Y VAIS À PIED JE SUIS CHEZ MOI JE ME CONDITIONNE DANS MON APPARTEMENT EN DISANT J Y VAIS À PIED MOI MA VOITURE ALÉGA DANS LA RUE J AI UN STATIONNEMENT RÉSIDANT JE PASSE DEVANT JE NE PEUX PAS M EMPÊCHER D OUVRIR LA PORTE MONTER DEDAN ET D ALLER À VOILÀ À CINQ MINUTES EN VOITURE QUI ME METTRAIT PEUT ÊTRE UN PETIT QUART D HEURE À PIED DONC AU DERNIER MOMENT JE PRENDS MA VOITIE']\n",
      "DEBUG:    |>>> Transcription: mais je reviens sur ce problème qui a un problème voilà dettre chez moi combien de fois ça mai arrivée bon bai là tu vas boulevard delterre c est pas loin j y vais à pied je suis chez moi je me conditionne dans mon appartement en disant j y vais à pied moi ma voiture aléga dans la rue j ai un stationnement résidant je passe devant je ne peux pas m empêcher d ouvrir la porte monter dedan et d aller à voilà à cinq minutes en voiture qui me mettrait peut être un petit quart d heure à pied donc au dernier moment je prends ma voitie\n"
     ]
    }
   ],
   "source": [
    "text, dur = process_transcription(speech_array, target_sr)"
   ]
  },
  {
   "cell_type": "code",
   "execution_count": 26,
   "metadata": {},
   "outputs": [
    {
     "data": {
      "text/plain": [
       "\"bon je reviens sur cette euh ce problème qui est un problème euh voilà de d'être chez moi combien de fois ça m'est arrivé bon ben là tu vas boulevard Voltaire c'est pas loin euh tu tu j'y vais à pieds je suis chez moi je me conditionne dans mon appartement en me disant j'y vais à pieds moi ma voiture elle est garée dans la rue j'ai un stationnement résident je passe devant je ne peux pas m'empêcher d'ouvrir euh la porte de monter dedans et et d'aller euh à euh voilà cinq minutes en voiture ce qui me mettrait peut-être euh un petit quart d'heure à pieds donc au dernier moment je prends ma voiture \""
      ]
     },
     "execution_count": 26,
     "metadata": {},
     "output_type": "execute_result"
    }
   ],
   "source": [
    "ref"
   ]
  },
  {
   "cell_type": "code",
   "execution_count": 23,
   "metadata": {},
   "outputs": [],
   "source": [
    "ref = d[0]['text']\n",
    "hypo = text"
   ]
  },
  {
   "cell_type": "code",
   "execution_count": 25,
   "metadata": {},
   "outputs": [
    {
     "name": "stdout",
     "output_type": "stream",
     "text": [
      "WER: 39.3162\n",
      "CER: 17.2859\n"
     ]
    }
   ],
   "source": [
    "import fastwer\n",
    "print(f\"WER: {fastwer.score_sent(hypo, ref)}\")\n",
    "print(f\"CER: {fastwer.score_sent(hypo, ref, char_level=True)}\")"
   ]
  }
 ],
 "metadata": {
  "kernelspec": {
   "display_name": "Python 3.10.5 ('.venv': venv)",
   "language": "python",
   "name": "python3"
  },
  "language_info": {
   "codemirror_mode": {
    "name": "ipython",
    "version": 3
   },
   "file_extension": ".py",
   "mimetype": "text/x-python",
   "name": "python",
   "nbconvert_exporter": "python",
   "pygments_lexer": "ipython3",
   "version": "3.10.6"
  },
  "orig_nbformat": 4,
  "vscode": {
   "interpreter": {
    "hash": "cf6a8efe9bc606fdc6eeef4076d637012a63b727005aa13d1f1bf9dac480bed4"
   }
  }
 },
 "nbformat": 4,
 "nbformat_minor": 2
}
